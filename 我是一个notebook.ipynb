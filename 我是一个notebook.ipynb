{
 "cells": [
  {
   "cell_type": "code",
   "execution_count": 0,
   "metadata": {
    "application/vnd.databricks.v1+cell": {
     "cellMetadata": {},
     "inputWidgets": {},
     "nuid": "f73be85d-4692-4232-acd7-62a9223c62c4",
     "showTitle": false,
     "tableResultSettingsMap": {},
     "title": ""
    },
    "galileo": {
     "collapsed_input": false,
     "collapsed_output": false,
     "version": "1.0.0"
    },
    "trusted": true
   },
   "outputs": [],
   "source": [
    "from pyspark.ml.regression import LinearRession\n",
    "from pyspark.ml.linalg import Vectors\n",
    "from pyspark.ml.feature import VectorAsse\n"
   ]
  },
  {
   "cell_type": "code",
   "execution_count": 0,
   "metadata": {
    "application/vnd.databricks.v1+cell": {
     "cellMetadata": {},
     "inputWidgets": {},
     "nuid": "b967fcc1-74e3-49c2-aa0d-5b0f687b8823",
     "showTitle": false,
     "tableResultSettingsMap": {},
     "title": ""
    },
    "galileo": {
     "code_type": "",
     "collapsed_input": false,
     "collapsed_output": false,
     "version": "1.0.0"
    },
    "trusted": true
   },
   "outputs": [],
   "source": [
    "# 构造一个简单的DataFrame作为示例数据\n",
    "data = [(1, 1), (2, 3), (3, 5), (4, 7), (5, 9)]  # 特征和标签数据\n",
    "columns = [\"feature\", \"label\"]dddd\n",
    "df = spark.createDataFrame(data, columns)\n",
    "\n",
    "# 使用VectorAssembler将特征转换为向量，因为许多ML算法要求输入数据为向量形式\n",
    "assembler = VectorAssembler(inputCols=[\"feature\"], outputCol=\"features_vector\")\n",
    "df_transformed = assembler.transform(df)\n",
    "\n",
    "# 选择LinearRegression模型进行训练\n",
    "lr = LinearRegression(featuresCol=\"features_vector\", labelCol=\"label\")\n",
    "\n",
    "# 划分训练集（这里为了简化直接使用全部数据训练，实际应用中应划分为训练集和测试集）\n",
    "train_data = df_transformed\n",
    "\n",
    "# 训练模型\n",
    "model = lr.fit(train_data)\n",
    "\n",
    "# 打印模型参数\n",
    "print(\"模型系数:\", model.coefficients)\n",
    "print(\"模型截距:\", model.intercept)\n"
   ]
  },
  {
   "cell_type": "code",
   "execution_count": 0,
   "metadata": {
    "application/vnd.databricks.v1+cell": {
     "cellMetadata": {},
     "inputWidgets": {},
     "nuid": "9a92eab1-7e4c-4ada-82d4-5186b759fd0e",
     "showTitle": false,
     "tableResultSettingsMap": {},
     "title": ""
    },
    "galileo": {
     "code_type": "",
     "collapsed_input": false,
     "collapsed_output": false,
     "version": "1.0.0"
    },
    "trusted": true
   },
   "outputs": [],
   "source": [
    "# 使用模型进行预测（以第一行数据为例）\n",
    "input_data = [[1]]  # 特征数据\n",
    "input_df = spark.createDataFrame(input_data, [\"feature\"])\n",
    "input_df = assembler.transform(input_df)\n",
    "prediction = model.transform(input_df)\n",
    "print(\"预测结果:\", prediction.select(\"prediction\").collect()[0][0])"
   ]
  }
 ],
 "metadata": {
  "application/vnd.databricks.v1+notebook": {
   "dashboards": [],
   "environmentMetadata": null,
   "language": "python",
   "notebookMetadata": {
    "pythonIndentUnit": 2
   },
   "notebookName": "我是一个notebook",
   "widgets": {}
  },
  "kernelspec": {
   "display_name": "Python 3 (ipykernel)",
   "language": "python",
   "name": ""
  },
  "language_info": {
   "name": "python"
  }
 },
 "nbformat": 4,
 "nbformat_minor": 0
}
